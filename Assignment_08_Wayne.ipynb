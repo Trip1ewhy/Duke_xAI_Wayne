{
  "nbformat": 4,
  "nbformat_minor": 0,
  "metadata": {
    "colab": {
      "provenance": [],
      "authorship_tag": "ABX9TyNnZtxuusNMxikzdCmXhQ8I",
      "include_colab_link": true
    },
    "kernelspec": {
      "name": "python3",
      "display_name": "Python 3"
    },
    "language_info": {
      "name": "python"
    }
  },
  "cells": [
    {
      "cell_type": "markdown",
      "metadata": {
        "id": "view-in-github",
        "colab_type": "text"
      },
      "source": [
        "<a href=\"https://colab.research.google.com/github/Trip1ewhy/Duke_xAI_Wayne/blob/main/Assignment_08_Wayne.ipynb\" target=\"_parent\"><img src=\"https://colab.research.google.com/assets/colab-badge.svg\" alt=\"Open In Colab\"/></a>"
      ]
    },
    {
      "cell_type": "markdown",
      "source": [
        "# AIPI 590 - XAI | Assignment #08\n",
        "### Explainable Deep Learning\n",
        "\n",
        "Instructions\n",
        "Develop a hypothesis and design a study using explainable deep learning methods to test your hypothesis. You can use any deep learning method discussed during the lecture: concept activation vectors, feature visualization, saliency maps, integrated gradients, or occlusion methods.\n",
        "\n",
        "\n",
        "\n",
        "Hypothesis must be in the form of a null/alternative hypothesis.\n",
        "\n",
        "\n",
        "\n",
        "Share your result as a visual report. This report can be in the form of a Google Colab, webpage, blog, or PDF and should contain the H0/H1 hypothesis, a brief explanation of the approach, the visualizations and/or explanations, and a summary of your findings. If Google Colab is not your medium of choice, please include source code as a link in your report.\n",
        "\n",
        "\n",
        "\n",
        "Note: You will NOT be graded on whether or not your null hypothesis was rejected, only on whether your experiments appropriately tested your hypothesis.\n",
        "\n",
        "\n",
        "\n",
        "Example hypothesis:\n",
        "\n",
        "H0: The GoogleNet model does not show a significant difference in its ability to learn the concept \"striped\" compared to the concept \"dotted\" for the class ‘zebra’.\n",
        "\n",
        "\n",
        "\n",
        "H1: The GoogleNet model shows a significant difference in its ability to learn the concept \"striped\" compared to the concept \"dotted\" for the class ‘zebra’, specifically, it learns the concept \"striped\" but not the concept \"dotted\".\n",
        "\n",
        "\n",
        "\n",
        "### Wayne Yang\n",
        "#### https://github.com/Trip1ewhy/Duke_xAI_Wayne/blob/main/Assignment_07_Wayne.ipynb\n",
        "\n",
        "[![Open In Collab](https://colab.research.google.com/assets/colab-badge.svg)](https://colab.research.google.com/drive/1U8s0-7tK4sQA5-Mnvlo4v37CrWS7ZYfn#scrollTo=q87mSlrkFKst)\n"
      ],
      "metadata": {
        "id": "M70WQI8kmUJq"
      }
    },
    {
      "cell_type": "code",
      "execution_count": 1,
      "metadata": {
        "colab": {
          "base_uri": "https://localhost:8080/",
          "height": 144
        },
        "id": "1dgwI44AmOg5",
        "outputId": "dedbe135-96f0-40c5-e746-6ee9b485b31a"
      },
      "outputs": [
        {
          "output_type": "error",
          "ename": "SyntaxError",
          "evalue": "invalid character '‘' (U+2018) (<ipython-input-1-0539a1f56089>, line 23)",
          "traceback": [
            "\u001b[0;36m  File \u001b[0;32m\"<ipython-input-1-0539a1f56089>\"\u001b[0;36m, line \u001b[0;32m23\u001b[0m\n\u001b[0;31m    H0: The GoogleNet model does not show a significant difference in its ability to learn the concept \"striped\" compared to the concept \"dotted\" for the class ‘zebra’.\u001b[0m\n\u001b[0m                                                                                                                                                                ^\u001b[0m\n\u001b[0;31mSyntaxError\u001b[0m\u001b[0;31m:\u001b[0m invalid character '‘' (U+2018)\n"
          ]
        }
      ],
      "source": []
    },
    {
      "cell_type": "code",
      "source": [],
      "metadata": {
        "id": "tAKjdndFmSzC"
      },
      "execution_count": null,
      "outputs": []
    }
  ]
}