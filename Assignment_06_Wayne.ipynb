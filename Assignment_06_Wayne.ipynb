{
  "nbformat": 4,
  "nbformat_minor": 0,
  "metadata": {
    "colab": {
      "provenance": [],
      "authorship_tag": "ABX9TyP9xnmiRqDM4iRx3VExawo8",
      "include_colab_link": true
    },
    "kernelspec": {
      "name": "python3",
      "display_name": "Python 3"
    },
    "language_info": {
      "name": "python"
    }
  },
  "cells": [
    {
      "cell_type": "markdown",
      "metadata": {
        "id": "view-in-github",
        "colab_type": "text"
      },
      "source": [
        "<a href=\"https://colab.research.google.com/github/Trip1ewhy/Duke_xAI_Wayne/blob/main/Assignment_06_Wayne.ipynb\" target=\"_parent\"><img src=\"https://colab.research.google.com/assets/colab-badge.svg\" alt=\"Open In Colab\"/></a>"
      ]
    },
    {
      "cell_type": "markdown",
      "source": [
        "# AIPI 590 - XAI | Assignment #06\n",
        "### Explainable Techniques\n",
        "\n",
        "Instructions\n",
        "Generate local explanations for individual predictions from a pre-trained blackbox model (ie ResNet34, Inception, BERT, YOLO, GPT-2). You may use LIME, SHAP, or Anchors for this assignment. At least one visualization of your explanation is required.\n",
        "\n",
        "\n",
        "\n",
        "Include a discussion that explains why you chose the explanation technique you did. In this discussion, include strengths, limitations, and potential improvements to your approach. t your fellow students would be able to understand the algorithm visually.\n",
        "\n",
        "\n",
        "### Wayne Yang\n",
        "#### https://github.com/Trip1ewhy/Duke_xAI_Wayne/blob/main/Assignment_05_Wayne.ipynb\n",
        "\n",
        "[![Open In Collab](https://colab.research.google.com/assets/colab-badge.svg)](https://colab.research.google.com/drive/1QDUfUw5Qc-ToWoOmDOveGh3JXxRv_ISh#scrollTo=P9ZERjG3PqyA)\n"
      ],
      "metadata": {
        "id": "Veu3849HVQY-"
      }
    },
    {
      "cell_type": "code",
      "execution_count": null,
      "metadata": {
        "id": "LHWfM72mVMKH"
      },
      "outputs": [],
      "source": [
        "!rm -r ./sample_data"
      ]
    },
    {
      "cell_type": "code",
      "source": [
        "# Please use this to connect your GitHub repository to your Google Colab notebook\n",
        "# Connects to any needed files from GitHub and Google Drive\n",
        "import os\n",
        "\n",
        "# Remove Colab default sample_data\n",
        "\n",
        "\n",
        "# Clone GitHub files to colab workspace\n",
        "repo_name = \"Duke_xAI_Wayne\" # Change to your repo name\n",
        "git_path = 'https://github.com/Trip1ewhy/Duke_xAI_Wayne.git' #Change to your path\n",
        "!git clone \"{git_path}\"\n",
        "\n",
        "# Install dependencies from requirements.txt file\n",
        "#!pip install -r \"{os.path.join(repo_name,'requirements.txt')}\" #Add if using requirements.txt\n",
        "\n",
        "# Change working directory to location of notebook\n",
        "notebook_dir = 'Assignment #05_Wayne'\n",
        "path_to_notebook = os.path.join(repo_name,notebook_dir)\n",
        "%cd \"{path_to_notebook}\"\n",
        "%ls"
      ],
      "metadata": {
        "id": "to4zTQETVS5A"
      },
      "execution_count": null,
      "outputs": []
    }
  ]
}