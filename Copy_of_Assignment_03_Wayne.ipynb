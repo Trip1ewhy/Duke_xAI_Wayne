{
  "nbformat": 4,
  "nbformat_minor": 0,
  "metadata": {
    "colab": {
      "provenance": [],
      "authorship_tag": "ABX9TyOhuHDgZQWnqcSUfRSMeRfA",
      "include_colab_link": true
    },
    "kernelspec": {
      "name": "python3",
      "display_name": "Python 3"
    },
    "language_info": {
      "name": "python"
    }
  },
  "cells": [
    {
      "cell_type": "markdown",
      "metadata": {
        "id": "view-in-github",
        "colab_type": "text"
      },
      "source": [
        "<a href=\"https://colab.research.google.com/github/Trip1ewhy/Duke_xAI_Wayne/blob/main/Copy_of_Assignment_03_Wayne.ipynb\" target=\"_parent\"><img src=\"https://colab.research.google.com/assets/colab-badge.svg\" alt=\"Open In Colab\"/></a>"
      ]
    },
    {
      "cell_type": "markdown",
      "source": [
        "# AIPI 590 - XAI | Assignment #03\n",
        "### Interpretable ML\n",
        "Instructions\n",
        "Instructions\n",
        "In this assignment, you will work with a dataset from a telecommunications company (https://www.kaggle.com/datasets/blastchar/telco-customer-churn/code). The company is interested in understanding the factors that contribute to customer churn (customers leaving the company for a competitor) and developing interpretable models to predict which customers are at risk of churning.\n",
        "\n",
        "\n",
        "\n",
        "Tasks\n",
        "\n",
        "Exploratory Data Analysis to check Assumptions: Perform an exploratory analysis of the dataset to understand the relationships between different features and the target variable (churn). Use appropriate visualizations and statistical methods to determine whether assumptions about linear, logistic, and GAM models are met.\n",
        "Linear Regression: Treat the churn variable as a continuous variable (e.g., 0 for staying, 1 for churning) and build a linear regression model to predict churn. Interpret the coefficients and assess the model's performance.\n",
        "Logistic Regression: Treat churn as a binary variable and build a logistic regression model to predict the probability of churn. Interpret the coefficients.\n",
        "Generalized Additive Model (GAM): Build a GAM to model the non-linear relationships between customer features and churn. Interpret the GAM model.\n",
        "Model Comparison: Compare the performance and interpretability of the different models you built. Discuss the strengths and weaknesses of each approach and provide recommendations for which model(s) the telecommunications company should use to address their customer churn problem.\n",
        "### Wayne Yang\n",
        "#### https://github.com/Trip1ewhy/Duke_xAI_Wayne/blob/51290060b5f29826b761f848f38d9514156082ce/Assignment%20%2302.ipynb\n",
        "\n",
        "\n",
        "[![Open In Collab](https://colab.research.google.com/assets/colab-badge.svg)](https://github.com/Trip1ewhy/Duke_xAI_Wayne/blob/51290060b5f29826b761f848f38d9514156082ce/Assignment%20%2302.ipynb)"
      ],
      "metadata": {
        "id": "GqF8pbOk9s-b"
      }
    },
    {
      "cell_type": "code",
      "source": [],
      "metadata": {
        "id": "A3iIiI4r9qvJ"
      },
      "execution_count": null,
      "outputs": []
    }
  ]
}