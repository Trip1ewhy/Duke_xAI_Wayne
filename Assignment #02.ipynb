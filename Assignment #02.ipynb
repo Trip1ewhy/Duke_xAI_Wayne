{
  "nbformat": 4,
  "nbformat_minor": 0,
  "metadata": {
    "colab": {
      "provenance": [],
      "authorship_tag": "ABX9TyNOFJq71TDuGhE71uNEgSXR",
      "include_colab_link": true
    },
    "kernelspec": {
      "name": "python3",
      "display_name": "Python 3"
    },
    "language_info": {
      "name": "python"
    }
  },
  "cells": [
    {
      "cell_type": "markdown",
      "metadata": {
        "id": "view-in-github",
        "colab_type": "text"
      },
      "source": [
        "<a href=\"https://colab.research.google.com/github/Trip1ewhy/Duke_xAI_Wayne/blob/main/Assignment%20%2302.ipynb\" target=\"_parent\"><img src=\"https://colab.research.google.com/assets/colab-badge.svg\" alt=\"Open In Colab\"/></a>"
      ]
    },
    {
      "cell_type": "markdown",
      "source": [
        "# AIPI 590 - XAI | Assignment #02\n",
        "### Adversarial Attacks (Adversarial Patches)\n",
        "Instructions\n",
        "Create your own adversarial patch. We will use the Torchvision ResNet34 model trained on a small version of ImageNet to test your patch. You will need to use a class from the imagenet_classes.txt file (see GitHub) for your patch.\n",
        "\n",
        "\n",
        "\n",
        "torchvision.models.resnet34(weights='IMAGENET1K_V1')\n",
        "\n",
        "\n",
        "In addition to creating your adversarial patch, you must apply some creative component to your patch. Here are some ideas, but this is open-ended:\n",
        "\n",
        "“Disguise” the patch in a sticker, like they did in Brown, et.al.\n",
        "“Disguise” your patch in something else (ie clothing, jewelry, accessories, household items)\n",
        "Combine two patches into one and test the results (what happens?)\n",
        "Send a secret message using a series of patches\n",
        "### Wayne Yang\n",
        "\n",
        "#### Include the button below. Change the link to the location in your github repository:\n",
        "#### Example: https://colab.research.google.com/github/yourGHName/yourREPOName/blob/yourBranchName/yourFileName.ipynb\n",
        "\n",
        "\n",
        "[![Open In Collab](https://colab.research.google.com/assets/colab-badge.svg)](https://colab.research.google.com/github/AIPI-590-XAI/Duke-AI-XAI/blob/dev/templates/template.ipynb)"
      ],
      "metadata": {
        "id": "KkfbwXL1Z2of"
      }
    },
    {
      "cell_type": "code",
      "source": [],
      "metadata": {
        "id": "tn9boZ_mZrYJ"
      },
      "execution_count": null,
      "outputs": []
    }
  ]
}