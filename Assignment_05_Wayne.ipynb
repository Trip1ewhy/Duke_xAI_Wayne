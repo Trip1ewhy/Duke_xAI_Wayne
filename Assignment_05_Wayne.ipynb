{
  "nbformat": 4,
  "nbformat_minor": 0,
  "metadata": {
    "colab": {
      "provenance": [],
      "authorship_tag": "ABX9TyOg4Pm2zca3f9t8S0n4tCtw",
      "include_colab_link": true
    },
    "kernelspec": {
      "name": "python3",
      "display_name": "Python 3"
    },
    "language_info": {
      "name": "python"
    }
  },
  "cells": [
    {
      "cell_type": "markdown",
      "metadata": {
        "id": "view-in-github",
        "colab_type": "text"
      },
      "source": [
        "<a href=\"https://colab.research.google.com/github/Trip1ewhy/Duke_xAI_Wayne/blob/main/Assignment_05_Wayne.ipynb\" target=\"_parent\"><img src=\"https://colab.research.google.com/assets/colab-badge.svg\" alt=\"Open In Colab\"/></a>"
      ]
    },
    {
      "cell_type": "markdown",
      "source": [
        "# AIPI 590 - XAI | Assignment #05\n",
        "### Interpretable ML\n",
        "\n",
        "Instructions\n",
        "imodels is an interpretability library in python that has support for many decision rule set and list algorithms (https://github.com/csinva/imodels?tab=readme-ov-file).\n",
        "\n",
        "\n",
        "\n",
        "From the list of supported models available in the README (link above), choose three algorithms to demo on a dataset of your choice.\n",
        "\n",
        "\n",
        "\n",
        "In addition to a demonstration for each of your chosen algorithms, you should provide an explanation of the method via a visual. This visual can be a block diagram, a slide, or anything of your choosing. It should represent the method in a way that your fellow students would be able to understand the algorithm visually.\n",
        "\n",
        "\n",
        "### Wayne Yang\n",
        "#### https://github.com/Trip1ewhy/Duke_xAI_Wayne/blob/main/Assignment_05_Wayne.ipynb\n",
        "\n",
        "[![Open In Collab](https://colab.research.google.com/assets/colab-badge.svg)](https://colab.research.google.com/drive/1QDUfUw5Qc-ToWoOmDOveGh3JXxRv_ISh#scrollTo=P9ZERjG3PqyA)"
      ],
      "metadata": {
        "id": "9cZtOAI6f7Rl"
      }
    },
    {
      "cell_type": "code",
      "execution_count": null,
      "metadata": {
        "id": "-xEUgFIkf2FM"
      },
      "outputs": [],
      "source": [
        "!rm -r ./sample_data"
      ]
    },
    {
      "cell_type": "code",
      "source": [
        "# Please use this to connect your GitHub repository to your Google Colab notebook\n",
        "# Connects to any needed files from GitHub and Google Drive\n",
        "import os\n",
        "\n",
        "# Remove Colab default sample_data\n",
        "\n",
        "\n",
        "# Clone GitHub files to colab workspace\n",
        "repo_name = \"Duke_xAI_Wayne\" # Change to your repo name\n",
        "git_path = 'https://github.com/Trip1ewhy/Duke_xAI_Wayne.git' #Change to your path\n",
        "!git clone \"{git_path}\"\n",
        "\n",
        "# Install dependencies from requirements.txt file\n",
        "#!pip install -r \"{os.path.join(repo_name,'requirements.txt')}\" #Add if using requirements.txt\n",
        "\n",
        "# Change working directory to location of notebook\n",
        "notebook_dir = 'Assignment #05_Wayne'\n",
        "path_to_notebook = os.path.join(repo_name,notebook_dir)\n",
        "%cd \"{path_to_notebook}\"\n",
        "%ls"
      ],
      "metadata": {
        "id": "kxjUTSmJf9oi"
      },
      "execution_count": null,
      "outputs": []
    }
  ]
}